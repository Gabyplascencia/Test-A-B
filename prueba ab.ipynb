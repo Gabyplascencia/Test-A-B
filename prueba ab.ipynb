{
 "cells": [
  {
   "cell_type": "markdown",
   "metadata": {},
   "source": [
    "# Proyecto 10, Toma de decisiones de negocios basadas en datos"
   ]
  },
  {
   "cell_type": "markdown",
   "metadata": {},
   "source": [
    "# Objetivos generales del proyecto"
   ]
  },
  {
   "cell_type": "markdown",
   "metadata": {},
   "source": [
    "En esta ocasion estamos trabajando con una gran tienda online, de nombre desconocido. \n",
    "\n",
    "Nuestra tarea es trabajar junto con el departamento de marketing, donde se ha recopilado una lista de hipótesis que pueden ayudar a aumentar los ingresos para nuestra tienda.\n",
    "\n",
    "Nuestra primer tarea es priorizar estas hipótesis, se lanzará un test A/B y nuestro trabajo es analizar los resultados de dicha prueba para decidir si estan dando resultados nuestras pruebas y es momento de continuar o parar el test."
   ]
  },
  {
   "cell_type": "markdown",
   "metadata": {},
   "source": [
    "# Descripción de los datas"
   ]
  },
  {
   "cell_type": "markdown",
   "metadata": {},
   "source": [
    "***Data hipotesis** \n",
    "\n",
    "-Hypotheses: breves descripciones de las hipótesis.\n",
    "\n",
    "-Reach: alcance del usuario, en una escala del uno a diez.\n",
    "\n",
    "-Impact: impacto en los usuarios, en una escala del uno al diez.\n",
    "\n",
    "-Confidence: confianza en la hipótesis, en una escala del uno al diez.\n",
    "\n",
    "-Effort: los recursos necesarios para probar una hipótesis, en una escala del uno al diez. Cuanto mayor sea el valor Effort, más recursos requiere la prueba.\n",
    "\n",
    "\n",
    "**Data orders** \n",
    "\n",
    "-transactionId: identificador de pedido.\n",
    "\n",
    "-visitorId: identificador del usuario que realizó el pedido.\n",
    "\n",
    "-date: fecha del pedido.\n",
    "\n",
    "-revenue: ingresos del pedido.\n",
    "\n",
    "-group: el grupo del test A/B al que pertenece el usuario.\n",
    "\n",
    "\n",
    "**Data visits** \n",
    "\n",
    "-date: la fecha.\n",
    "\n",
    "-group: grupo de la prueba A/B.\n",
    "\n",
    "-visits: el número de visitas en la fecha especificada en el grupo de pruebas A/B especificado.\n"
   ]
  },
  {
   "cell_type": "markdown",
   "metadata": {},
   "source": [
    "# Preparación y limpieza de todos los datas"
   ]
  },
  {
   "cell_type": "code",
   "execution_count": 1,
   "metadata": {},
   "outputs": [],
   "source": [
    "#cargar las librerias necesarias\n",
    "import pandas as pd\n",
    "import numpy as np\n",
    "import seaborn as sns\n",
    "from matplotlib import pyplot as plt\n",
    "import datetime as dt\n",
    "import scipy.stats as stats"
   ]
  },
  {
   "cell_type": "code",
   "execution_count": 2,
   "metadata": {},
   "outputs": [],
   "source": [
    "#cargar los archivos\n",
    "hipotesis= pd.read_csv(\"/datasets/hypotheses_us.csv\", sep=\";\")\n",
    "orders= pd.read_csv(\"/datasets/orders_us.csv\")\n",
    "visits= pd.read_csv(\"/datasets/visits_us.csv\")"
   ]
  },
  {
   "cell_type": "code",
   "execution_count": 3,
   "metadata": {},
   "outputs": [
    {
     "name": "stdout",
     "output_type": "stream",
     "text": [
      "<class 'pandas.core.frame.DataFrame'>\n",
      "RangeIndex: 9 entries, 0 to 8\n",
      "Data columns (total 5 columns):\n",
      " #   Column      Non-Null Count  Dtype \n",
      "---  ------      --------------  ----- \n",
      " 0   Hypothesis  9 non-null      object\n",
      " 1   Reach       9 non-null      int64 \n",
      " 2   Impact      9 non-null      int64 \n",
      " 3   Confidence  9 non-null      int64 \n",
      " 4   Effort      9 non-null      int64 \n",
      "dtypes: int64(4), object(1)\n",
      "memory usage: 488.0+ bytes\n"
     ]
    }
   ],
   "source": [
    "#inicia el análisis de la tabla hipotesis\n",
    "#manda a llamar info para conocer el tipo de datos que tenemos y analizar si debemos cambiar el tipo de datos\n",
    "hipotesis.info()"
   ]
  },
  {
   "cell_type": "code",
   "execution_count": 4,
   "metadata": {},
   "outputs": [
    {
     "data": {
      "text/html": [
       "<div>\n",
       "<style scoped>\n",
       "    .dataframe tbody tr th:only-of-type {\n",
       "        vertical-align: middle;\n",
       "    }\n",
       "\n",
       "    .dataframe tbody tr th {\n",
       "        vertical-align: top;\n",
       "    }\n",
       "\n",
       "    .dataframe thead th {\n",
       "        text-align: right;\n",
       "    }\n",
       "</style>\n",
       "<table border=\"1\" class=\"dataframe\">\n",
       "  <thead>\n",
       "    <tr style=\"text-align: right;\">\n",
       "      <th></th>\n",
       "      <th>Hypothesis</th>\n",
       "      <th>Reach</th>\n",
       "      <th>Impact</th>\n",
       "      <th>Confidence</th>\n",
       "      <th>Effort</th>\n",
       "    </tr>\n",
       "  </thead>\n",
       "  <tbody>\n",
       "    <tr>\n",
       "      <th>0</th>\n",
       "      <td>Add two new channels for attracting traffic. T...</td>\n",
       "      <td>3</td>\n",
       "      <td>10</td>\n",
       "      <td>8</td>\n",
       "      <td>6</td>\n",
       "    </tr>\n",
       "    <tr>\n",
       "      <th>1</th>\n",
       "      <td>Launch your own delivery service. This will sh...</td>\n",
       "      <td>2</td>\n",
       "      <td>5</td>\n",
       "      <td>4</td>\n",
       "      <td>10</td>\n",
       "    </tr>\n",
       "    <tr>\n",
       "      <th>2</th>\n",
       "      <td>Add product recommendation blocks to the store...</td>\n",
       "      <td>8</td>\n",
       "      <td>3</td>\n",
       "      <td>7</td>\n",
       "      <td>3</td>\n",
       "    </tr>\n",
       "    <tr>\n",
       "      <th>3</th>\n",
       "      <td>Change the category structure. This will incre...</td>\n",
       "      <td>8</td>\n",
       "      <td>3</td>\n",
       "      <td>3</td>\n",
       "      <td>8</td>\n",
       "    </tr>\n",
       "    <tr>\n",
       "      <th>4</th>\n",
       "      <td>Change the background color on the main page. ...</td>\n",
       "      <td>3</td>\n",
       "      <td>1</td>\n",
       "      <td>1</td>\n",
       "      <td>1</td>\n",
       "    </tr>\n",
       "    <tr>\n",
       "      <th>5</th>\n",
       "      <td>Add a customer review page. This will increase...</td>\n",
       "      <td>3</td>\n",
       "      <td>2</td>\n",
       "      <td>2</td>\n",
       "      <td>3</td>\n",
       "    </tr>\n",
       "    <tr>\n",
       "      <th>6</th>\n",
       "      <td>Show banners with current offers and sales on ...</td>\n",
       "      <td>5</td>\n",
       "      <td>3</td>\n",
       "      <td>8</td>\n",
       "      <td>3</td>\n",
       "    </tr>\n",
       "    <tr>\n",
       "      <th>7</th>\n",
       "      <td>Add a subscription form to all the main pages....</td>\n",
       "      <td>10</td>\n",
       "      <td>7</td>\n",
       "      <td>8</td>\n",
       "      <td>5</td>\n",
       "    </tr>\n",
       "    <tr>\n",
       "      <th>8</th>\n",
       "      <td>Launch a promotion that gives users discounts ...</td>\n",
       "      <td>1</td>\n",
       "      <td>9</td>\n",
       "      <td>9</td>\n",
       "      <td>5</td>\n",
       "    </tr>\n",
       "  </tbody>\n",
       "</table>\n",
       "</div>"
      ],
      "text/plain": [
       "                                          Hypothesis  Reach  Impact  \\\n",
       "0  Add two new channels for attracting traffic. T...      3      10   \n",
       "1  Launch your own delivery service. This will sh...      2       5   \n",
       "2  Add product recommendation blocks to the store...      8       3   \n",
       "3  Change the category structure. This will incre...      8       3   \n",
       "4  Change the background color on the main page. ...      3       1   \n",
       "5  Add a customer review page. This will increase...      3       2   \n",
       "6  Show banners with current offers and sales on ...      5       3   \n",
       "7  Add a subscription form to all the main pages....     10       7   \n",
       "8  Launch a promotion that gives users discounts ...      1       9   \n",
       "\n",
       "   Confidence  Effort  \n",
       "0           8       6  \n",
       "1           4      10  \n",
       "2           7       3  \n",
       "3           3       8  \n",
       "4           1       1  \n",
       "5           2       3  \n",
       "6           8       3  \n",
       "7           8       5  \n",
       "8           9       5  "
      ]
     },
     "execution_count": 4,
     "metadata": {},
     "output_type": "execute_result"
    }
   ],
   "source": [
    "#llama a head para visualizar el data\n",
    "hipotesis"
   ]
  },
  {
   "cell_type": "code",
   "execution_count": 5,
   "metadata": {},
   "outputs": [
    {
     "name": "stdout",
     "output_type": "stream",
     "text": [
      "Hypothesis    0\n",
      "Reach         0\n",
      "Impact        0\n",
      "Confidence    0\n",
      "Effort        0\n",
      "dtype: int64\n"
     ]
    }
   ],
   "source": [
    "#buscar valores ausentes\n",
    "print(hipotesis.isna().sum())"
   ]
  },
  {
   "cell_type": "code",
   "execution_count": 6,
   "metadata": {},
   "outputs": [
    {
     "name": "stdout",
     "output_type": "stream",
     "text": [
      "<class 'pandas.core.frame.DataFrame'>\n",
      "RangeIndex: 1197 entries, 0 to 1196\n",
      "Data columns (total 5 columns):\n",
      " #   Column         Non-Null Count  Dtype  \n",
      "---  ------         --------------  -----  \n",
      " 0   transactionId  1197 non-null   int64  \n",
      " 1   visitorId      1197 non-null   int64  \n",
      " 2   date           1197 non-null   object \n",
      " 3   revenue        1197 non-null   float64\n",
      " 4   group          1197 non-null   object \n",
      "dtypes: float64(1), int64(2), object(2)\n",
      "memory usage: 46.9+ KB\n"
     ]
    }
   ],
   "source": [
    "#manda a llamar info para conocer el tipo de datos que tenemos y analizar si debemos cambiar el tipo de datos\n",
    "orders.info()"
   ]
  },
  {
   "cell_type": "code",
   "execution_count": 7,
   "metadata": {},
   "outputs": [
    {
     "data": {
      "text/html": [
       "<div>\n",
       "<style scoped>\n",
       "    .dataframe tbody tr th:only-of-type {\n",
       "        vertical-align: middle;\n",
       "    }\n",
       "\n",
       "    .dataframe tbody tr th {\n",
       "        vertical-align: top;\n",
       "    }\n",
       "\n",
       "    .dataframe thead th {\n",
       "        text-align: right;\n",
       "    }\n",
       "</style>\n",
       "<table border=\"1\" class=\"dataframe\">\n",
       "  <thead>\n",
       "    <tr style=\"text-align: right;\">\n",
       "      <th></th>\n",
       "      <th>transactionId</th>\n",
       "      <th>visitorId</th>\n",
       "      <th>date</th>\n",
       "      <th>revenue</th>\n",
       "      <th>group</th>\n",
       "    </tr>\n",
       "  </thead>\n",
       "  <tbody>\n",
       "    <tr>\n",
       "      <th>0</th>\n",
       "      <td>3667963787</td>\n",
       "      <td>3312258926</td>\n",
       "      <td>2019-08-15</td>\n",
       "      <td>30.4</td>\n",
       "      <td>B</td>\n",
       "    </tr>\n",
       "    <tr>\n",
       "      <th>1</th>\n",
       "      <td>2804400009</td>\n",
       "      <td>3642806036</td>\n",
       "      <td>2019-08-15</td>\n",
       "      <td>15.2</td>\n",
       "      <td>B</td>\n",
       "    </tr>\n",
       "    <tr>\n",
       "      <th>2</th>\n",
       "      <td>2961555356</td>\n",
       "      <td>4069496402</td>\n",
       "      <td>2019-08-15</td>\n",
       "      <td>10.2</td>\n",
       "      <td>A</td>\n",
       "    </tr>\n",
       "    <tr>\n",
       "      <th>3</th>\n",
       "      <td>3797467345</td>\n",
       "      <td>1196621759</td>\n",
       "      <td>2019-08-15</td>\n",
       "      <td>155.1</td>\n",
       "      <td>B</td>\n",
       "    </tr>\n",
       "    <tr>\n",
       "      <th>4</th>\n",
       "      <td>2282983706</td>\n",
       "      <td>2322279887</td>\n",
       "      <td>2019-08-15</td>\n",
       "      <td>40.5</td>\n",
       "      <td>B</td>\n",
       "    </tr>\n",
       "  </tbody>\n",
       "</table>\n",
       "</div>"
      ],
      "text/plain": [
       "   transactionId   visitorId        date  revenue group\n",
       "0     3667963787  3312258926  2019-08-15     30.4     B\n",
       "1     2804400009  3642806036  2019-08-15     15.2     B\n",
       "2     2961555356  4069496402  2019-08-15     10.2     A\n",
       "3     3797467345  1196621759  2019-08-15    155.1     B\n",
       "4     2282983706  2322279887  2019-08-15     40.5     B"
      ]
     },
     "execution_count": 7,
     "metadata": {},
     "output_type": "execute_result"
    }
   ],
   "source": [
    "orders.head()"
   ]
  },
  {
   "cell_type": "code",
   "execution_count": 8,
   "metadata": {},
   "outputs": [],
   "source": [
    "#cambiar el tipo de dato a datetime de la columna date\n",
    "orders[\"date\"]=pd.to_datetime(orders[\"date\"] , format=\"%Y-%m-%d\")"
   ]
  },
  {
   "cell_type": "code",
   "execution_count": 9,
   "metadata": {},
   "outputs": [
    {
     "name": "stdout",
     "output_type": "stream",
     "text": [
      "transactionId    0\n",
      "visitorId        0\n",
      "date             0\n",
      "revenue          0\n",
      "group            0\n",
      "dtype: int64\n"
     ]
    }
   ],
   "source": [
    "#buscar valores ausentes\n",
    "print(orders.isna().sum())"
   ]
  },
  {
   "cell_type": "code",
   "execution_count": 10,
   "metadata": {},
   "outputs": [
    {
     "name": "stdout",
     "output_type": "stream",
     "text": [
      "0\n"
     ]
    }
   ],
   "source": [
    "#buscar filas duplicadas\n",
    "print(orders.duplicated().sum())"
   ]
  },
  {
   "cell_type": "code",
   "execution_count": 11,
   "metadata": {},
   "outputs": [
    {
     "name": "stdout",
     "output_type": "stream",
     "text": [
      "<class 'pandas.core.frame.DataFrame'>\n",
      "RangeIndex: 1197 entries, 0 to 1196\n",
      "Data columns (total 5 columns):\n",
      " #   Column         Non-Null Count  Dtype         \n",
      "---  ------         --------------  -----         \n",
      " 0   transactionId  1197 non-null   int64         \n",
      " 1   visitorId      1197 non-null   int64         \n",
      " 2   date           1197 non-null   datetime64[ns]\n",
      " 3   revenue        1197 non-null   float64       \n",
      " 4   group          1197 non-null   object        \n",
      "dtypes: datetime64[ns](1), float64(1), int64(2), object(1)\n",
      "memory usage: 46.9+ KB\n"
     ]
    }
   ],
   "source": [
    "orders.info()"
   ]
  },
  {
   "cell_type": "code",
   "execution_count": 12,
   "metadata": {},
   "outputs": [
    {
     "name": "stdout",
     "output_type": "stream",
     "text": [
      "<class 'pandas.core.frame.DataFrame'>\n",
      "RangeIndex: 62 entries, 0 to 61\n",
      "Data columns (total 3 columns):\n",
      " #   Column  Non-Null Count  Dtype \n",
      "---  ------  --------------  ----- \n",
      " 0   date    62 non-null     object\n",
      " 1   group   62 non-null     object\n",
      " 2   visits  62 non-null     int64 \n",
      "dtypes: int64(1), object(2)\n",
      "memory usage: 1.6+ KB\n"
     ]
    }
   ],
   "source": [
    "#manda a llamar info para conocer el tipo de datos que tenemos y analizar si debemos cambiar el tipo de datos\n",
    "visits.info()"
   ]
  },
  {
   "cell_type": "code",
   "execution_count": 13,
   "metadata": {},
   "outputs": [
    {
     "data": {
      "text/html": [
       "<div>\n",
       "<style scoped>\n",
       "    .dataframe tbody tr th:only-of-type {\n",
       "        vertical-align: middle;\n",
       "    }\n",
       "\n",
       "    .dataframe tbody tr th {\n",
       "        vertical-align: top;\n",
       "    }\n",
       "\n",
       "    .dataframe thead th {\n",
       "        text-align: right;\n",
       "    }\n",
       "</style>\n",
       "<table border=\"1\" class=\"dataframe\">\n",
       "  <thead>\n",
       "    <tr style=\"text-align: right;\">\n",
       "      <th></th>\n",
       "      <th>date</th>\n",
       "      <th>group</th>\n",
       "      <th>visits</th>\n",
       "    </tr>\n",
       "  </thead>\n",
       "  <tbody>\n",
       "    <tr>\n",
       "      <th>0</th>\n",
       "      <td>2019-08-01</td>\n",
       "      <td>A</td>\n",
       "      <td>719</td>\n",
       "    </tr>\n",
       "    <tr>\n",
       "      <th>1</th>\n",
       "      <td>2019-08-02</td>\n",
       "      <td>A</td>\n",
       "      <td>619</td>\n",
       "    </tr>\n",
       "    <tr>\n",
       "      <th>2</th>\n",
       "      <td>2019-08-03</td>\n",
       "      <td>A</td>\n",
       "      <td>507</td>\n",
       "    </tr>\n",
       "    <tr>\n",
       "      <th>3</th>\n",
       "      <td>2019-08-04</td>\n",
       "      <td>A</td>\n",
       "      <td>717</td>\n",
       "    </tr>\n",
       "    <tr>\n",
       "      <th>4</th>\n",
       "      <td>2019-08-05</td>\n",
       "      <td>A</td>\n",
       "      <td>756</td>\n",
       "    </tr>\n",
       "  </tbody>\n",
       "</table>\n",
       "</div>"
      ],
      "text/plain": [
       "         date group  visits\n",
       "0  2019-08-01     A     719\n",
       "1  2019-08-02     A     619\n",
       "2  2019-08-03     A     507\n",
       "3  2019-08-04     A     717\n",
       "4  2019-08-05     A     756"
      ]
     },
     "execution_count": 13,
     "metadata": {},
     "output_type": "execute_result"
    }
   ],
   "source": [
    "visits.head()"
   ]
  },
  {
   "cell_type": "code",
   "execution_count": 14,
   "metadata": {},
   "outputs": [],
   "source": [
    "#cambiar el tipo de dato a datetime de la columna date\n",
    "visits[\"date\"]=pd.to_datetime(visits[\"date\"] , format=\"%Y-%m-%d\")"
   ]
  },
  {
   "cell_type": "code",
   "execution_count": 15,
   "metadata": {},
   "outputs": [
    {
     "name": "stdout",
     "output_type": "stream",
     "text": [
      "date      0\n",
      "group     0\n",
      "visits    0\n",
      "dtype: int64\n"
     ]
    }
   ],
   "source": [
    "#buscar valores ausentes\n",
    "print(visits.isna().sum())"
   ]
  },
  {
   "cell_type": "code",
   "execution_count": 16,
   "metadata": {},
   "outputs": [
    {
     "name": "stdout",
     "output_type": "stream",
     "text": [
      "0\n"
     ]
    }
   ],
   "source": [
    "#buscar filas duplicadas\n",
    "print(visits.duplicated().sum())"
   ]
  },
  {
   "cell_type": "code",
   "execution_count": 17,
   "metadata": {},
   "outputs": [
    {
     "name": "stdout",
     "output_type": "stream",
     "text": [
      "<class 'pandas.core.frame.DataFrame'>\n",
      "RangeIndex: 62 entries, 0 to 61\n",
      "Data columns (total 3 columns):\n",
      " #   Column  Non-Null Count  Dtype         \n",
      "---  ------  --------------  -----         \n",
      " 0   date    62 non-null     datetime64[ns]\n",
      " 1   group   62 non-null     object        \n",
      " 2   visits  62 non-null     int64         \n",
      "dtypes: datetime64[ns](1), int64(1), object(1)\n",
      "memory usage: 1.6+ KB\n"
     ]
    }
   ],
   "source": [
    "visits.info()"
   ]
  },
  {
   "cell_type": "markdown",
   "metadata": {},
   "source": [
    "En general, los datas venian completos, solo se corroboró que no vinieran con inormación faltante o duplicada. Se cambio el tipo de dato de las columnas del día para mejor manejo de esta información.\n"
   ]
  },
  {
   "cell_type": "markdown",
   "metadata": {},
   "source": [
    "# Parte 1"
   ]
  },
  {
   "cell_type": "markdown",
   "metadata": {},
   "source": [
    "# Priorizar la hipótesis"
   ]
  },
  {
   "cell_type": "markdown",
   "metadata": {},
   "source": [
    "Como ya se nos fue explicado estamos trabajando junto con el departamnto de marketing para priorizar las hipótesis propuestas por la empresa. En total se an definido 9 hipótesis y han sido calificadas en cuanto al impacto, confianza, esfuerzo y alacnce que genera cada una.\n",
    "\n",
    "Nuestra primer tarea es tomar el data de hipótesis  explicar mediante pruebas que hipótesis tendrán mjejor impacto y podemos evaluar inmediatamnete y cuales otras no darían tan buenos resultados."
   ]
  },
  {
   "cell_type": "code",
   "execution_count": 18,
   "metadata": {},
   "outputs": [],
   "source": [
    "#Crear una columna para calcular ICE  \n",
    "hipotesis[\"ICE\"]= (hipotesis[\"Impact\"]* hipotesis[\"Confidence\"])/ hipotesis[\"Effort\"]"
   ]
  },
  {
   "cell_type": "code",
   "execution_count": 19,
   "metadata": {},
   "outputs": [
    {
     "data": {
      "text/plain": [
       "8    16.200000\n",
       "0    13.333333\n",
       "7    11.200000\n",
       "6     8.000000\n",
       "2     7.000000\n",
       "1     2.000000\n",
       "5     1.333333\n",
       "3     1.125000\n",
       "4     1.000000\n",
       "dtype: float64"
      ]
     },
     "execution_count": 19,
     "metadata": {},
     "output_type": "execute_result"
    }
   ],
   "source": [
    "# Calculo de Ice ideendiente, ordenado en orden descendente de prioridad.\n",
    "ICE= ((hipotesis[\"Impact\"]* hipotesis[\"Confidence\"])/ hipotesis[\"Effort\"]).sort_values(ascending=False)\n",
    "ICE"
   ]
  },
  {
   "cell_type": "markdown",
   "metadata": {},
   "source": [
    "Al calcular ICE podemos identificar las hipotesis con mayor prioridad, recordemos que solo tomamos en cuenta el impacto, la confiana y el esfuerzo requerido para estas hipótesis.\n",
    "\n",
    "Nuestras 3 principales hipótesis a considerar con esta prueba son:\n",
    "\n",
    "8 Lanzar una promosión con descuentos\n",
    "\n",
    "0 Agregar 2 nuevos canales para aumnetar el tráfico de usuarios\n",
    "\n",
    "7 Añadir un nuevo formulario con suscripción en las páginas principales\n",
    "\n",
    "Logramos observar que los descuentos siemrpe serán una forma fácil de atraer más ventas, pero poniendo en duda las ganancias.\n",
    "Más canales puede ser buena idea pero podría ser mayor gasto en marketing\n",
    "Formularios podrian usarse para dar mayor exclusividad e información de los clientes.\n",
    "\n",
    "Las 3 hipótesis suenan buenas, pero debemos comparar con el RICE para una mejor tomar de decisiones."
   ]
  },
  {
   "cell_type": "code",
   "execution_count": 20,
   "metadata": {},
   "outputs": [],
   "source": [
    "#Crea una columna nueva para calcular RICE \n",
    "hipotesis[\"RICE\"]= (hipotesis[\"Reach\"] *hipotesis[\"Impact\"]* hipotesis[\"Confidence\"])/ hipotesis[\"Effort\"]"
   ]
  },
  {
   "cell_type": "code",
   "execution_count": 21,
   "metadata": {},
   "outputs": [
    {
     "data": {
      "text/plain": [
       "7    112.0\n",
       "2     56.0\n",
       "0     40.0\n",
       "6     40.0\n",
       "8     16.2\n",
       "3      9.0\n",
       "1      4.0\n",
       "5      4.0\n",
       "4      3.0\n",
       "dtype: float64"
      ]
     },
     "execution_count": 21,
     "metadata": {},
     "output_type": "execute_result"
    }
   ],
   "source": [
    "# Calculo de Ice ideendiente, ordenado en orden descendente de prioridad.\n",
    "RICE= ((hipotesis[\"Reach\"] *hipotesis[\"Impact\"]* hipotesis[\"Confidence\"])/ hipotesis[\"Effort\"]).sort_values(ascending=False)\n",
    "RICE"
   ]
  },
  {
   "cell_type": "markdown",
   "metadata": {},
   "source": [
    "Al calcular RICE tendremos un nuevo orden de prioridades ya que recordemos tomamos en cuenta el impacto, la confianza, el esfuerzo y el **alcalce ** en los usuarios, lo que nos da un mejor manorama para evaluar lass hipótesis.\n",
    "\n",
    "Nuestras 3 principales hipótesis a considerar con esta prueba son:\n",
    "\n",
    "7 Añadir un nuevo formulario con suscripción en las páginas principales\n",
    "\n",
    "2 Añadir bloques de recomendaciones a los productos\n",
    "\n",
    "6 Mostrar banner con oferta y rebajas vigentes\n",
    "\n",
    "Logramos observar que la hipótesis 7 sigue estando dentro de las hipótesis más imoprtantes, está es una buena señal para priorizarla.\n",
    "Los bloques de  recomendaciones puede llegar a ser un trabajo cansado si tenemos muchos productos a ofrecer, pero traerá la atención del usuario, logrando su interes y aumentando las ventas de otros productos.\n",
    "Y mostrar los descuentos y ofertas ya decididos por la empresa, atraerá gente en busqueda de ofertas, disminuir el stock si es lo buscado por la empresa y nuevos clientes que nos conozcan con la ayuda de los descuentos.\n",
    "\n",
    "Como vemos las 3 hipotesis mencionadas en esta prueba tiene lógica con el objetivo y nos ayudan a mejorar la toma de decisiones en cuento a que hipótesis priorizar con mayor exactitud."
   ]
  },
  {
   "cell_type": "code",
   "execution_count": 22,
   "metadata": {},
   "outputs": [
    {
     "data": {
      "text/html": [
       "<div>\n",
       "<style scoped>\n",
       "    .dataframe tbody tr th:only-of-type {\n",
       "        vertical-align: middle;\n",
       "    }\n",
       "\n",
       "    .dataframe tbody tr th {\n",
       "        vertical-align: top;\n",
       "    }\n",
       "\n",
       "    .dataframe thead th {\n",
       "        text-align: right;\n",
       "    }\n",
       "</style>\n",
       "<table border=\"1\" class=\"dataframe\">\n",
       "  <thead>\n",
       "    <tr style=\"text-align: right;\">\n",
       "      <th></th>\n",
       "      <th>Hypothesis</th>\n",
       "      <th>Reach</th>\n",
       "      <th>Impact</th>\n",
       "      <th>Confidence</th>\n",
       "      <th>Effort</th>\n",
       "      <th>ICE</th>\n",
       "      <th>RICE</th>\n",
       "    </tr>\n",
       "  </thead>\n",
       "  <tbody>\n",
       "    <tr>\n",
       "      <th>0</th>\n",
       "      <td>Add two new channels for attracting traffic. T...</td>\n",
       "      <td>3</td>\n",
       "      <td>10</td>\n",
       "      <td>8</td>\n",
       "      <td>6</td>\n",
       "      <td>13.333333</td>\n",
       "      <td>40.0</td>\n",
       "    </tr>\n",
       "    <tr>\n",
       "      <th>1</th>\n",
       "      <td>Launch your own delivery service. This will sh...</td>\n",
       "      <td>2</td>\n",
       "      <td>5</td>\n",
       "      <td>4</td>\n",
       "      <td>10</td>\n",
       "      <td>2.000000</td>\n",
       "      <td>4.0</td>\n",
       "    </tr>\n",
       "    <tr>\n",
       "      <th>2</th>\n",
       "      <td>Add product recommendation blocks to the store...</td>\n",
       "      <td>8</td>\n",
       "      <td>3</td>\n",
       "      <td>7</td>\n",
       "      <td>3</td>\n",
       "      <td>7.000000</td>\n",
       "      <td>56.0</td>\n",
       "    </tr>\n",
       "    <tr>\n",
       "      <th>3</th>\n",
       "      <td>Change the category structure. This will incre...</td>\n",
       "      <td>8</td>\n",
       "      <td>3</td>\n",
       "      <td>3</td>\n",
       "      <td>8</td>\n",
       "      <td>1.125000</td>\n",
       "      <td>9.0</td>\n",
       "    </tr>\n",
       "    <tr>\n",
       "      <th>4</th>\n",
       "      <td>Change the background color on the main page. ...</td>\n",
       "      <td>3</td>\n",
       "      <td>1</td>\n",
       "      <td>1</td>\n",
       "      <td>1</td>\n",
       "      <td>1.000000</td>\n",
       "      <td>3.0</td>\n",
       "    </tr>\n",
       "    <tr>\n",
       "      <th>5</th>\n",
       "      <td>Add a customer review page. This will increase...</td>\n",
       "      <td>3</td>\n",
       "      <td>2</td>\n",
       "      <td>2</td>\n",
       "      <td>3</td>\n",
       "      <td>1.333333</td>\n",
       "      <td>4.0</td>\n",
       "    </tr>\n",
       "    <tr>\n",
       "      <th>6</th>\n",
       "      <td>Show banners with current offers and sales on ...</td>\n",
       "      <td>5</td>\n",
       "      <td>3</td>\n",
       "      <td>8</td>\n",
       "      <td>3</td>\n",
       "      <td>8.000000</td>\n",
       "      <td>40.0</td>\n",
       "    </tr>\n",
       "    <tr>\n",
       "      <th>7</th>\n",
       "      <td>Add a subscription form to all the main pages....</td>\n",
       "      <td>10</td>\n",
       "      <td>7</td>\n",
       "      <td>8</td>\n",
       "      <td>5</td>\n",
       "      <td>11.200000</td>\n",
       "      <td>112.0</td>\n",
       "    </tr>\n",
       "    <tr>\n",
       "      <th>8</th>\n",
       "      <td>Launch a promotion that gives users discounts ...</td>\n",
       "      <td>1</td>\n",
       "      <td>9</td>\n",
       "      <td>9</td>\n",
       "      <td>5</td>\n",
       "      <td>16.200000</td>\n",
       "      <td>16.2</td>\n",
       "    </tr>\n",
       "  </tbody>\n",
       "</table>\n",
       "</div>"
      ],
      "text/plain": [
       "                                          Hypothesis  Reach  Impact  \\\n",
       "0  Add two new channels for attracting traffic. T...      3      10   \n",
       "1  Launch your own delivery service. This will sh...      2       5   \n",
       "2  Add product recommendation blocks to the store...      8       3   \n",
       "3  Change the category structure. This will incre...      8       3   \n",
       "4  Change the background color on the main page. ...      3       1   \n",
       "5  Add a customer review page. This will increase...      3       2   \n",
       "6  Show banners with current offers and sales on ...      5       3   \n",
       "7  Add a subscription form to all the main pages....     10       7   \n",
       "8  Launch a promotion that gives users discounts ...      1       9   \n",
       "\n",
       "   Confidence  Effort        ICE   RICE  \n",
       "0           8       6  13.333333   40.0  \n",
       "1           4      10   2.000000    4.0  \n",
       "2           7       3   7.000000   56.0  \n",
       "3           3       8   1.125000    9.0  \n",
       "4           1       1   1.000000    3.0  \n",
       "5           2       3   1.333333    4.0  \n",
       "6           8       3   8.000000   40.0  \n",
       "7           8       5  11.200000  112.0  \n",
       "8           9       5  16.200000   16.2  "
      ]
     },
     "execution_count": 22,
     "metadata": {},
     "output_type": "execute_result"
    }
   ],
   "source": [
    "#muestra la tabla con las nuevas columnas \n",
    "hipotesis"
   ]
  },
  {
   "cell_type": "code",
   "execution_count": 23,
   "metadata": {},
   "outputs": [
    {
     "data": {
      "image/png": "[encoded data removed]",
      "text/plain": [
       "<Figure size 640x480 with 1 Axes>"
      ]
     },
     "metadata": {},
     "output_type": "display_data"
    },
    {
     "data": {
      "image/png": "[encoded data removed]",
      "text/plain": [
       "<Figure size 640x480 with 1 Axes>"
      ]
     },
     "metadata": {},
     "output_type": "display_data"
    }
   ],
   "source": [
    "#Crea un gráfico para mostrar la diferencia entre RICE y ICE.\n",
    "hipotesis.plot(x=\"Hypothesis\", y =\"RICE\",kind=\"bar\", label=\"RICE\", color=\"pink\")\n",
    "hipotesis.plot(x=\"Hypothesis\", y=\"ICE\",kind=\"bar\", label=\"ICE\", color=\"hotpink\")\n",
    "plt.show()"
   ]
  },
  {
   "cell_type": "markdown",
   "metadata": {},
   "source": [
    "Como podemo observar la lista de prioridades entre ICE y RICE cambia, esto debido al agregar el Alcance obtenido con los clientes. Teniendo este factor una gran influencia en los resultados.\n",
    "\n",
    "Incluir el alcance que ha tenido con los clientes nos ayuda a entender que tanto impacto tendrá en el consumidor nuestros cambios, siendo más contundente la importancia a tomar. Ya que puede ser buena para la empresa pero si el consumidor no nota estos cambios como empresa no nos beneficia, pues tenemos el objetivo de aumentar las ganacias  esto se lográ con más clientes o ventas más grandes.\n",
    "\n",
    "El alcance es medido de igual manera en una escala del 1-10, si comparamos la diferencia de resultados esto nos indica que el alcance es de 9 o 10 en los usuarios en RICE lo que nos beneficia con los clientes.\n",
    "\n",
    "Podemos observar que los últimos 4 puestos de prioridad tienen las mismas Hipótesis en este puesto (1,5,3,4) lo que nos confirma que por el momento estas hipótesis no serán prioridad para la empresa para las pruebas.\n",
    "\n",
    "Usaremos los resultados de RICE para la priorización de hipótesis en esta ocasión\n",
    "Dejando a la hipótesis  como principal. Recordemos que dicha hipotesis aparecio dentro del top 3 de ambas pruebas, lo que nos hace entender que es una gran idea priorizarla.\n",
    "Como mencionabamos muchos de los clientes hoy en día buscan exclusividad, eperiencia dentro de sus compras, lo que crear un formulario podría mejorar la experiencia y hacernos conocer más a nuetsros usuarios, lo que nos hará mejorar como empresa y entender las necesisdades que podemos cumplir con los consumidores.\n",
    "\n",
    "**Lista final de prioridades de hipótesis:**\n",
    "\n",
    "7 - Añade un formulario de suscripción a todas las páginas principales.\n",
    "\n",
    "2 - Añadir bloques de recomendación de productos a la tienda.\n",
    "\n",
    "6 - Mostrar banners con ofertas y rebajas vigentes.\n",
    "\n",
    "0 - Agregar dos nuevos canales para atraer tráfico.\n",
    "\n",
    "8 - Lanzar una promoción que dé descuentos a los usuarios.\n",
    "\n",
    "3 - Cambiar la estructura de categorías.\n",
    "\n",
    "5 - Agregue una página de reseñas de clientes.\n",
    "\n",
    "1 - Lanzar nuestro propio servicio de entrega.\n",
    "\n",
    "4 - Cambie el color de fondo en la página principal."
   ]
  },
  {
   "cell_type": "markdown",
   "metadata": {},
   "source": [
    "# Parte 2"
   ]
  },
  {
   "cell_type": "markdown",
   "metadata": {},
   "source": [
    "# Análisis del test A/B"
   ]
  },
  {
   "cell_type": "markdown",
   "metadata": {},
   "source": [
    "Para nuestra segunda parte, a conocemos en que hipótesis concentrarnos como empresa, ya se ha llevado a cabo el test A/B y se nos han sido proporcionados los resultados de dichas pruebas.\n",
    "Nuestra tarea es identificar si las pruebas nos demuestran si estan siendo lo suficientemente buenas para continuar con ellas y nuestros esfuerzos no estan teniendo cambios en el comportamiento de los clientes y es momnto de parar el test y analiar otras opciones.\n",
    "\n",
    "Contamos con los data de orders y visits que han registrado la actividad de los clientes y con el cual se ahn dividido en  grupos A y B."
   ]
  },
  {
   "cell_type": "code",
   "execution_count": 24,
   "metadata": {},
   "outputs": [],
   "source": [
    "#Representa gráficamente el ingreso acumulado por grupo. \n",
    "\n",
    "#crear una matriz con valores únicos de parejas fecha-grupo\n",
    "datesGroups = orders[['date', 'group']].drop_duplicates()\n",
    "\n",
    "#recopilar los datos diarios acumulados sobre los pedidos \n",
    "ordersAggregated = datesGroups.apply(lambda x: orders[np.logical_and(orders['date'] <= x['date'], orders['group'] == x['group'])].agg({'date' : 'max', 'group' : 'max', 'transactionId' : pd.Series.nunique, 'visitorId' : pd.Series.nunique, 'revenue' : 'sum'}), axis=1).sort_values(by=['date','group'])\n",
    "\n",
    "#obtener los datos diarios acumulados de las visitas al sitio web\n",
    "visitorsAggregated = datesGroups.apply(lambda x: visits[np.logical_and(visits['date'] <= x['date'], visits['group'] == x['group'])].agg({'date' : 'max', 'group' : 'max', 'visits' : 'sum'}), axis=1).sort_values(by=['date','group'])\n",
    "\n",
    "#unimos ambas tablas\n",
    "cumulativeData = ordersAggregated.merge(visitorsAggregated, left_on=['date', 'group'], right_on=['date', 'group'])\n",
    "\n",
    "#cambiamos el nombre de sus columnas\n",
    "cumulativeData.columns = ['date', 'group', 'orders', 'buyers', 'revenue', 'visitors']\n"
   ]
  },
  {
   "cell_type": "code",
   "execution_count": 25,
   "metadata": {},
   "outputs": [
    {
     "data": {
      "text/plain": [
       "<matplotlib.legend.Legend at 0x7fd3871aaf40>"
      ]
     },
     "execution_count": 25,
     "metadata": {},
     "output_type": "execute_result"
    },
    {
     "data": {
      "image/png": "[encoded data removed]",
      "text/plain": [
       "<Figure size 640x480 with 1 Axes>"
      ]
     },
     "metadata": {},
     "output_type": "display_data"
    }
   ],
   "source": [
    "# DataFrame con pedidos acumulados e ingresos acumulados por día, grupo A\n",
    "cumulativeRevenueA = cumulativeData[cumulativeData['group']=='A'][['date','revenue', 'orders']]\n",
    "\n",
    "# DataFrame con pedidos acumulados e ingresos acumulados por día, grupo B\n",
    "cumulativeRevenueB = cumulativeData[cumulativeData['group']=='B'][['date','revenue', 'orders']]\n",
    "\n",
    "# Trazar el gráfico de ingresos del grupo A\n",
    "plt.plot(cumulativeRevenueA['date'], cumulativeRevenueA['revenue'], label='A', color=\"pink\")\n",
    "\n",
    "# Trazar el gráfico de ingresos del grupo B\n",
    "plt.plot(cumulativeRevenueB['date'], cumulativeRevenueB['revenue'], label='B', color=\"hotpink\")\n",
    "\n",
    "plt.legend()"
   ]
  },
  {
   "cell_type": "markdown",
   "metadata": {},
   "source": [
    "Como podemos observar ambos grupos (A y B) muestran un aumento en sus ingresos, recordemos que sumamos los ingresos por día lo que nos hace más fácil el análisis por grupo.\n",
    "\n",
    "Los ingresos tienen un aumento bastante constante y similar los primeros días, pero podemos obsrvar que ambos grupos tienen picos de ingresos respectivamente, esto nos podría indicar un aumento en las ventas o ventas de mayor valor que causen estas dierencias\n",
    "\n",
    "Ambos grupos iniciaron en 0 pero el grupo B muestra mayor ganancias desde el inicio, teniendo un aumento considerable en un punto del test.\n",
    "\n",
    "Si el grupo B es aquel que fue manipulado para el test nos podría indicar un buen inicio para continuar con la spruebas y seguir ese patrón para mejorar las ventas en general.\n",
    "La realidad es que no concomos que condiciones tiene cada grupo en la prueba, lo que solo nos queda indicar que en cuanto a ingresos el grupo B ha dado mejor resultados en este test."
   ]
  },
  {
   "cell_type": "code",
   "execution_count": 26,
   "metadata": {},
   "outputs": [
    {
     "data": {
      "text/plain": [
       "<matplotlib.legend.Legend at 0x7fd3871d69d0>"
      ]
     },
     "execution_count": 26,
     "metadata": {},
     "output_type": "execute_result"
    },
    {
     "data": {
      "image/png": "[encoded data removed]",
      "text/plain": [
       "<Figure size 640x480 with 1 Axes>"
      ]
     },
     "metadata": {},
     "output_type": "display_data"
    }
   ],
   "source": [
    "#Representa gráficamente el tamaño de pedido promedio acumulado por grupo. \n",
    "\n",
    "#uso de la tabla creada anteriormente se manda a graficar\n",
    "plt.plot(cumulativeRevenueA['date'], cumulativeRevenueA['revenue']/cumulativeRevenueA['orders'], label='A', color=\"pink\")\n",
    "plt.plot(cumulativeRevenueB['date'], cumulativeRevenueB['revenue']/cumulativeRevenueB['orders'], label='B', color=\"hotpink\")\n",
    "plt.legend()"
   ]
  },
  {
   "cell_type": "markdown",
   "metadata": {},
   "source": [
    "Como podemos observar ambas gráficas muestran aumentos y caidas abruptas en las primeras etapas de la prueba en relación a las compras. \n",
    "\n",
    "El grupo A muestra primero caidas constantes que luego mejoran con el paso del tiempo, aunque aun mostrando cambios en su comportamiento sin encontrar un punto de estabilidad (aún) dentro de la prueba.\n",
    "\n",
    "El grupo B muestra al inicio un aumento en sus compras, aunque tambien caidas, aunque no tan etremas como en el grupo A, simpre logrando mejorar sus números, teniendo un día de extremas ventas que coinciden en tiempo con el incrmeento de las ganancias en dicho grupo vistas anteriormente.\n",
    "\n",
    "Las gráficas no muestras aún periodo de estabilización para las compras de nuestros grupos, a finales de la prueba existe una ligera estabilización pero esta no puede ser aún considerada estable al 100%.\n",
    "\n",
    "Para ambos grupos se necesita más tiempo para poder tener un dato estable sobre el promedio de compras en ambos grupos."
   ]
  },
  {
   "cell_type": "code",
   "execution_count": 27,
   "metadata": {},
   "outputs": [
    {
     "data": {
      "text/plain": [
       "<matplotlib.lines.Line2D at 0x7fd3871277f0>"
      ]
     },
     "execution_count": 27,
     "metadata": {},
     "output_type": "execute_result"
    },
    {
     "data": {
      "image/png": "[encoded data removed]",
      "text/plain": [
       "<Figure size 640x480 with 1 Axes>"
      ]
     },
     "metadata": {},
     "output_type": "display_data"
    }
   ],
   "source": [
    "#Representa gráficamente la diferencia relativa en el tamaño de pedido promedio acumulado para el grupo B en comparación con el grupo A. \n",
    "# reunir los datos en un Data nuevo\n",
    "mergedCumulativeRevenue = cumulativeRevenueA.merge(cumulativeRevenueB, left_on='date', right_on='date', how='left', suffixes=['A', 'B'])\n",
    "\n",
    "# trazar un gráfico de diferencia relativa para los tamaños de compra promedio\n",
    "plt.plot(mergedCumulativeRevenue['date'], (mergedCumulativeRevenue['revenueB']/mergedCumulativeRevenue['ordersB'])/(mergedCumulativeRevenue['revenueA']/mergedCumulativeRevenue['ordersA'])-1, color=\"hotpink\")\n",
    "\n",
    "# agregar el eje X\n",
    "plt.axhline(y=0, color='black', linestyle='--')"
   ]
  },
  {
   "cell_type": "markdown",
   "metadata": {},
   "source": [
    "En varios puntos de la gráfica, la diferencia entre los segmentos aumenta. \n",
    "\n",
    "Esto significa que debe haber algunos pedidos grandes y valores atípicos, los cuales pueden estar afectar el comportamiento de la gráfica, estos valores los encontraremos posteriormente pero ahora tenemos conocimiento de esto."
   ]
  },
  {
   "cell_type": "code",
   "execution_count": 28,
   "metadata": {},
   "outputs": [
    {
     "data": {
      "text/plain": [
       "<matplotlib.legend.Legend at 0x7fd3870ff6a0>"
      ]
     },
     "execution_count": 28,
     "metadata": {},
     "output_type": "execute_result"
    },
    {
     "data": {
      "image/png": "[encoded data removed]",
      "text/plain": [
       "<Figure size 640x480 with 1 Axes>"
      ]
     },
     "metadata": {},
     "output_type": "display_data"
    }
   ],
   "source": [
    "#Calcula la tasa de conversión de cada grupo como la relación entre los pedidos y el número de visitas de cada día. \n",
    "\n",
    "# crear una nueva columna para la conversión acumulada\n",
    "cumulativeData['conversion'] = cumulativeData['orders']/cumulativeData['visitors']\n",
    "\n",
    "# seleccionar datos en el grupo A\n",
    "cumulativeDataA = cumulativeData[cumulativeData['group']=='A']\n",
    "\n",
    "# seleccionar datos en el grupo B\n",
    "cumulativeDataB = cumulativeData[cumulativeData['group']=='B']\n",
    "\n",
    "# trazar los gráficos\n",
    "plt.plot(cumulativeDataA['date'], cumulativeDataA['conversion'], label='A', color=\"pink\")\n",
    "plt.plot(cumulativeDataB['date'], cumulativeDataB['conversion'], label='B', color=\"hotpink\")\n",
    "plt.legend()"
   ]
  },
  {
   "cell_type": "markdown",
   "metadata": {},
   "source": [
    "La relación entre las compras y las visitas en ambos grupos muestran un gran movimiento.\n",
    "\n",
    "Los grupos no estan arrojando datos nada similares, muestras aumentos  caidas bastante grandes a inicio de las pruebas y aunque no eiste un punto de estabilidad aún, ambos grupos parecen tener su propio rango del cual no fluctuan.\n",
    "\n",
    "El grupo A paraece estar en un rango de 0.029 a 0.031 en todo momento y el grupo B esta dentro de un rango 0.034 a 0.037, teniendo mayor rango de flucutaución el 2do grupo.\n",
    "\n",
    "Lo que es evidente en todas las gráficas y vuelve a repetirse en esta es que l grupo B tiene mucho mejores resultados en sus números. "
   ]
  },
  {
   "cell_type": "code",
   "execution_count": 29,
   "metadata": {},
   "outputs": [
    {
     "name": "stdout",
     "output_type": "stream",
     "text": [
      "       visitorId  total_orders\n",
      "1023  4256040402            11\n",
      "591   2458001652            11\n",
      "569   2378935119             9\n",
      "487   2038680547             8\n",
      "44     199603092             5\n",
      "...          ...           ...\n",
      "359   1484903144             1\n",
      "360   1485964287             1\n",
      "361   1494664757             1\n",
      "362   1495112755             1\n",
      "1030  4283872382             1\n",
      "\n",
      "[1031 rows x 2 columns]\n"
     ]
    }
   ],
   "source": [
    "#Traza un gráfico de dispersión del número de pedidos por usuario. \n",
    "\n",
    "#crea un data para buscar el número de pedidos por usuario\n",
    "ordersByUsers = (\n",
    "    orders.groupby('visitorId', as_index=False)\n",
    "    .agg({'transactionId': pd.Series.nunique})\n",
    ")\n",
    "#cambia el nombre de las columnas\n",
    "ordersByUsers.columns = ['visitorId', 'total_orders']\n",
    "\n",
    "#imprime el promedio de pedidos por usuario\n",
    "print(ordersByUsers.sort_values(by='total_orders', ascending=False))"
   ]
  },
  {
   "cell_type": "code",
   "execution_count": 30,
   "metadata": {},
   "outputs": [
    {
     "data": {
      "text/plain": [
       "<matplotlib.collections.PathCollection at 0x7fd3874cb5b0>"
      ]
     },
     "execution_count": 30,
     "metadata": {},
     "output_type": "execute_result"
    },
    {
     "data": {
      "image/png": "[encoded data removed]",
      "text/plain": [
       "<Figure size 640x480 with 1 Axes>"
      ]
     },
     "metadata": {},
     "output_type": "display_data"
    }
   ],
   "source": [
    "total_order = pd.Series(range(0,len(ordersByUsers)))\n",
    " #crear el gráfico de dispersión \n",
    "plt.scatter(total_order, ordersByUsers['total_orders'], color=\"purple\")"
   ]
  },
  {
   "cell_type": "markdown",
   "metadata": {},
   "source": [
    "Como ya esperabamos existen alguno pedidos de los usuarios de grandes cantidades que estan creando estos sesgos en las gráficas.\n",
    "Teniendo número de pedidos que sesgan los resultados.\n",
    "\n",
    "Basados en el gráfico, la mayor cantidad de nuestros clientes solo hace 1 pedido, sin embargo, una parte significativa realiza de 2 a 5 pedidos por usuario.  Los casos  más atipicos fueron clientes que hicieron 11 pedidos, los cuales sesgan los resultados promedio.\n",
    "\n",
    "Calcularemos los percentiles para conocer que cantidad de paquetes ya es anormal y debe ser considerada para nuestro estudio y evitar sesgos."
   ]
  },
  {
   "cell_type": "code",
   "execution_count": 31,
   "metadata": {},
   "outputs": [
    {
     "name": "stdout",
     "output_type": "stream",
     "text": [
      "[9.55 9.91]\n"
     ]
    }
   ],
   "source": [
    "#Calcula los percentiles 95 y 99 del número de pedidos por usuario. \n",
    "#coloca rango visto en las gráficas para su calculo\n",
    "print(np.percentile(range(1,11), [95, 99]))"
   ]
  },
  {
   "cell_type": "markdown",
   "metadata": {},
   "source": [
    "Solo el 5% de los usuarios realian pedidos arriba de 9 (9.5 ) y solo el 1% de los usuarios realian pedidos arriba de 10 veces, lo que hace que estos usuarios sean nuestros valores atipicos a considerar para nuestro test."
   ]
  },
  {
   "cell_type": "code",
   "execution_count": 32,
   "metadata": {},
   "outputs": [
    {
     "data": {
      "text/plain": [
       "<matplotlib.collections.PathCollection at 0x7fd3870ded00>"
      ]
     },
     "execution_count": 32,
     "metadata": {},
     "output_type": "execute_result"
    },
    {
     "data": {
      "image/png": "[encoded data removed]",
      "text/plain": [
       "<Figure size 640x480 with 1 Axes>"
      ]
     },
     "metadata": {},
     "output_type": "display_data"
    }
   ],
   "source": [
    "#Traza un gráfico de dispersión de los precios de los pedidos. \n",
    "\n",
    "#considerar el precio de revenue de las ordenes \n",
    "revenue = pd.Series(range(0, len(orders['revenue'])))\n",
    "#creación de gráfico de dispersión \n",
    "plt.scatter(revenue, orders['revenue'], color=\"purple\")"
   ]
  },
  {
   "cell_type": "code",
   "execution_count": 33,
   "metadata": {},
   "outputs": [
    {
     "name": "stdout",
     "output_type": "stream",
     "text": [
      "[435.54  900.904]\n"
     ]
    }
   ],
   "source": [
    "#Calcula los percentiles 95 y 99 de los precios de los pedidos. \n",
    "\n",
    "#coloca rango de revenue de la tabla orders\n",
    "print(np.percentile(orders['revenue'], [95, 99]))"
   ]
  },
  {
   "cell_type": "markdown",
   "metadata": {},
   "source": [
    "Solo el 5% de los usuarios reazlian pedidos con un valor arriba de $453.54 y solo el 1% de los usuarios reazlian pedidos con un valor arriba de $900.9 , lo que hace que estos usuarios sean nuestros valores atipicos a considerar para nuestro test."
   ]
  },
  {
   "cell_type": "markdown",
   "metadata": {},
   "source": [
    "A partir de este momento nuestra tarea es definir el punto en el cual un punto de datos se convierte en una anomalía.\n",
    "Para esto estaremos calculando las significancias estadísticas necesarias para poder sacar conclusiones de nuestras pruebas."
   ]
  },
  {
   "cell_type": "code",
   "execution_count": 34,
   "metadata": {},
   "outputs": [
    {
     "name": "stdout",
     "output_type": "stream",
     "text": [
      "0.01679\n",
      "0.138\n"
     ]
    }
   ],
   "source": [
    "#Encuentra la significancia estadística de la diferencia en la conversión entre los grupos utilizando los datos en bruto. \n",
    "\n",
    "#creaemos variables para almacenar información del grupo A\n",
    "ordersByUsersA = (\n",
    "    orders[orders['group'] == 'A']\n",
    "    .groupby('visitorId', as_index=False)\n",
    "    .agg({'transactionId': pd.Series.nunique}))\n",
    "\n",
    "#cambio de nombre a las columnas\n",
    "ordersByUsersA.columns = ['userId', 'orders']\n",
    "\n",
    "#creaemos variables para almacenar información del grupo B\n",
    "ordersByUsersB = (\n",
    "    orders[orders['group'] == 'B']\n",
    "    .groupby('visitorId', as_index=False)\n",
    "    .agg({'transactionId': pd.Series.nunique}))\n",
    "#cambio de nombre a las columnas\n",
    "ordersByUsersB.columns = ['userId', 'orders']\n",
    "\n",
    "#concatenar \n",
    "sampleA = pd.concat([ordersByUsersA['orders'], pd.Series( 0,index=np.arange( visits[visits['group'] == 'A']['visits'].sum()- len(ordersByUsersA['orders']) ),\n",
    "            name='orders', ), ],axis=0,)\n",
    "sampleB = pd.concat( [ ordersByUsersB['orders'], pd.Series( 0, index=np.arange( visits[visits['group'] == 'B']['visits'].sum() - len(ordersByUsersB['orders'])),\n",
    "            name='orders', ), ], axis=0,)\n",
    "\n",
    "#hace prueba formateada p a 3 decimales \n",
    "print('{0:.3f}'.format(stats.mannwhitneyu(sampleA, sampleB)[1]))\n",
    "print('{0:.3f}'.format(sampleB.mean() / sampleA.mean() - 1))"
   ]
  },
  {
   "cell_type": "markdown",
   "metadata": {},
   "source": [
    "Según los datos sin procesar, si hay diferencia entre los grupos A y B. \n",
    "\n",
    "El primer resultado nos da el valor p 0.0169, que es menor que 0.05. \n",
    "Con estos datos podemos rechazar la hipótesis nula ya que si hay una diferencia estadísticamente significativa en la conversión entre los grupos A y B. \n",
    "\n",
    "Pero la pérdida relativa del grupo B es del 13.8% (segundo rsultado)"
   ]
  },
  {
   "cell_type": "code",
   "execution_count": 35,
   "metadata": {},
   "outputs": [
    {
     "name": "stdout",
     "output_type": "stream",
     "text": [
      "0.692\n",
      "0.252\n"
     ]
    }
   ],
   "source": [
    "#Encuentra la significancia estadística de la diferencia en el tamaño promedio de pedido entre los grupos utilizando los datos en bruto. \n",
    "\n",
    "print('{0:.3f}'.format(stats.mannwhitneyu(orders[orders['group']=='A']['revenue'], orders[orders['group']=='B']['revenue'])[1]))\n",
    "print('{0:.3f}'.format(orders[orders['group']=='B']['revenue'].mean()/orders[orders['group']=='A']['revenue'].mean()-1))"
   ]
  },
  {
   "cell_type": "markdown",
   "metadata": {},
   "source": [
    "El valor p es notablemente superior a 0.05, por lo que no hay motivo para rechazar la hipótesis nula y concluir que el tamaño promedio de los pedidos difiere entre los grupos. \n",
    "\n",
    "No obstante, el tamaño de pedido promedio para el grupo B es más pequeño que para el grupo A.  "
   ]
  },
  {
   "cell_type": "code",
   "execution_count": 40,
   "metadata": {},
   "outputs": [
    {
     "name": "stdout",
     "output_type": "stream",
     "text": [
      "1099     148427295\n",
      "928      204675465\n",
      "684      358944393\n",
      "648      382846391\n",
      "1189     393266494\n",
      "751      689129267\n",
      "1137     759473111\n",
      "77       787824685\n",
      "654      816783716\n",
      "339      834731816\n",
      "949      887908475\n",
      "744      888512513\n",
      "563      935349363\n",
      "709      950626008\n",
      "1103    1164614297\n",
      "137     1211585711\n",
      "1136    1307669133\n",
      "858     1316129916\n",
      "421     1357170471\n",
      "549     1367935136\n",
      "562     1452540367\n",
      "1121    1604853044\n",
      "420     1606766439\n",
      "425     1920142716\n",
      "227     2038680547\n",
      "1196    2108080724\n",
      "570     2247666522\n",
      "287     2254456485\n",
      "131     2254586615\n",
      "1006    2261934787\n",
      "273     2278620397\n",
      "755     2279926127\n",
      "326     2378935119\n",
      "278     2458001652\n",
      "1142    2606908679\n",
      "254     2686716486\n",
      "527     2837914161\n",
      "925     2840985286\n",
      "890     2853587382\n",
      "530     2912540959\n",
      "73      2947100995\n",
      "173     2953427180\n",
      "960     2999642019\n",
      "1096    3062433592\n",
      "208     3118156181\n",
      "481     3177790019\n",
      "78      3288820196\n",
      "746     3321013705\n",
      "728     3357398384\n",
      "867     3372131337\n",
      "1087    3590655705\n",
      "613     3931967268\n",
      "496     3951559397\n",
      "940     4003628586\n",
      "723     4009017467\n",
      "627     4120364173\n",
      "743     4133034833\n",
      "499     4256040402\n",
      "662     4266935830\n",
      "dtype: int64\n",
      "(59,)\n"
     ]
    }
   ],
   "source": [
    "#Vamos a encontrar el número total de usuarios anómalos\n",
    "\n",
    "#crea la variable y concatena\n",
    "usersWithManyOrders = pd.concat([ordersByUsersA[ordersByUsersA['orders'] > 4]['userId'], ordersByUsersB[ordersByUsersB['orders'] > 4]['userId']], axis = 0)\n",
    "\n",
    "#hace el filtro\n",
    "usersWithExpensiveOrders = orders[orders['revenue'] > 435.5]['visitorId']\n",
    "\n",
    "abnormalUsers = pd.concat([usersWithManyOrders, usersWithExpensiveOrders], axis = 0).drop_duplicates().sort_values()\n",
    "\n",
    "print(abnormalUsers)\n",
    "print(abnormalUsers.shape)"
   ]
  },
  {
   "cell_type": "markdown",
   "metadata": {},
   "source": [
    "En total, tenemos 59 usuarios anómalos. "
   ]
  },
  {
   "cell_type": "code",
   "execution_count": 37,
   "metadata": {},
   "outputs": [],
   "source": [
    "#Encuentra la significancia estadística de la diferencia en la conversión entre los grupos utilizando los datos filtrados.\n",
    "\n",
    "#Primero prepararemos muestras del número de pedidos por usuario para cada grupo de prueba\n",
    "sampleAFiltered = pd.concat([ordersByUsersA[np.logical_not(ordersByUsersA['userId'].isin(abnormalUsers))]['orders'],pd.Series(0, index=np.arange(visits[visits['group']=='A']['visits'].sum() - len(ordersByUsersA['orders'])),name='orders')],axis=0)\n",
    "\n",
    "sampleBFiltered = pd.concat([ordersByUsersB[np.logical_not(ordersByUsersB['userId'].isin(abnormalUsers))]['orders'],pd.Series(0, index=np.arange(visits[visits['group']=='B']['visits'].sum() - len(ordersByUsersB['orders'])),name='orders')],axis=0)\n"
   ]
  },
  {
   "cell_type": "code",
   "execution_count": 41,
   "metadata": {},
   "outputs": [
    {
     "name": "stdout",
     "output_type": "stream",
     "text": [
      "0.016\n",
      "0.149\n"
     ]
    }
   ],
   "source": [
    "#manda a imprimir con los filtros y a 3 decimales p\n",
    "print(\"{0:.3f}\".format(stats.mannwhitneyu(sampleAFiltered, sampleBFiltered)[1]))\n",
    "\n",
    "print(\"{0:.3f}\".format(sampleBFiltered.mean()/sampleAFiltered.mean()-1))"
   ]
  },
  {
   "cell_type": "markdown",
   "metadata": {},
   "source": [
    "Resultados sin filtro: 0.01679 y 0.138\n",
    "\n",
    "Como podemos observar los resultados casi no cambiaron a pesar del filtro"
   ]
  },
  {
   "cell_type": "code",
   "execution_count": 45,
   "metadata": {},
   "outputs": [
    {
     "name": "stdout",
     "output_type": "stream",
     "text": [
      "0.929\n",
      "-0.014\n"
     ]
    }
   ],
   "source": [
    "#Encuentra la significancia estadística de la diferencia en el tamaño promedio de pedido entre los grupos utilizando los datos filtrados. Haz conclusiones y conjeturas.\n",
    "\n",
    "print( \"{0:.3f}\".format(stats.mannwhitneyu(orders[np.logical_and(orders['group'] == 'A',np.logical_not(orders['visitorId'].isin(abnormalUsers)),)]['revenue'],\n",
    "            orders[ np.logical_and(orders['group'] == 'B',np.logical_not(orders['visitorId'].isin(abnormalUsers)),) ]['revenue'], )[1]))\n",
    "\n",
    "print(\"{0:.3f}\".format(orders[np.logical_and(orders['group'] == 'B',np.logical_not(orders['visitorId'].isin(abnormalUsers)),)]['revenue'].mean()/ orders[np.logical_and(\n",
    "                orders['group'] == 'A',np.logical_not(orders['visitorId'].isin(abnormalUsers)),)]['revenue'].mean() - 1))\n"
   ]
  },
  {
   "cell_type": "markdown",
   "metadata": {},
   "source": [
    "Resultados antriores: 0.692 y 0.252\n",
    "\n",
    "El valor p disminuyó y además el valor del grupo B ha disminuido significativamnete con el filtro. \n",
    "\n",
    "Logrando observar como los valores anamolos afectan considerbalmente en nuestra prueba para la toma de decisiones."
   ]
  },
  {
   "cell_type": "markdown",
   "metadata": {},
   "source": [
    "**Toma una decisión basada en los resultados de la prueba**\n",
    "\n",
    "Las decisiones posibles son:\n",
    "\n",
    "-Parar la prueba, considerar a uno de los grupos como líder.\n",
    "\n",
    "-Parar la prueba, concluir que no hay diferencia entre los grupos.\n",
    "\n",
    "-Continuar la prueba."
   ]
  },
  {
   "cell_type": "markdown",
   "metadata": {},
   "source": [
    "# Conclusiones"
   ]
  },
  {
   "cell_type": "markdown",
   "metadata": {},
   "source": [
    "Aquí están los hechos:\n",
    "\n",
    "-Ni los datos sin procesar y los filtrados revelaron diferencias estadísticamente significativas en la conversión entre los grupos.\n",
    "\n",
    "- Los datos sin procesar y los filtrados revelaron diferencias estadísticamente significativas en el tamaño promedio de los pedidos entre los grupos.\n",
    "\n",
    "- El gráfico que muestra la diferencia de conversión entre los grupos nos dice que los resultados del grupo B son mucho mejores que el grupo aA, por lo que cuadra con que si existen diferencias significativas desde los gráficos netre ambos grupos\n",
    "\n",
    "- Los gráficos no muestran que hayamos llegado a un punto de estabilidad con las compras entre ambos grupos.\n",
    "\n",
    "-El grupo B ha traido consderablmente mejores ingreso a la empresa.\n",
    "\n",
    "Basándonos en estos hechos, podemos concluir que es necesario continuar con la prueba pues no hemos podido lograr estabilizar ambos grupos y esto nos crea diferencias significativas que podrías hacernos tomar una mala decisión en cuento al resultado de esta prueba. Esper. "
   ]
  }
 ],
 "metadata": {
  "ExecuteTimeLog": [
   {
    "duration": 2534,
    "start_time": "2025-01-06T15:27:21.933Z"
   },
   {
    "duration": 23,
    "start_time": "2025-01-06T15:27:27.055Z"
   },
   {
    "duration": 8,
    "start_time": "2025-01-06T15:27:29.007Z"
   },
   {
    "duration": 10,
    "start_time": "2025-01-06T15:27:43.071Z"
   },
   {
    "duration": 9,
    "start_time": "2025-01-06T15:28:37.114Z"
   },
   {
    "duration": 8,
    "start_time": "2025-01-06T15:28:59.265Z"
   },
   {
    "duration": 4,
    "start_time": "2025-01-06T15:29:42.784Z"
   },
   {
    "duration": 4,
    "start_time": "2025-01-06T15:29:45.156Z"
   },
   {
    "duration": 4,
    "start_time": "2025-01-06T15:29:47.684Z"
   },
   {
    "duration": 8,
    "start_time": "2025-01-06T15:30:04.938Z"
   },
   {
    "duration": 7,
    "start_time": "2025-01-06T15:30:23.155Z"
   },
   {
    "duration": 5,
    "start_time": "2025-01-06T15:31:14.155Z"
   },
   {
    "duration": 5,
    "start_time": "2025-01-06T15:31:23.840Z"
   },
   {
    "duration": 8,
    "start_time": "2025-01-06T15:31:37.148Z"
   },
   {
    "duration": 5,
    "start_time": "2025-01-06T15:32:09.312Z"
   },
   {
    "duration": 6,
    "start_time": "2025-01-06T15:32:30.241Z"
   },
   {
    "duration": 4,
    "start_time": "2025-01-06T15:33:46.053Z"
   },
   {
    "duration": 5,
    "start_time": "2025-01-06T15:34:54.541Z"
   },
   {
    "duration": 12,
    "start_time": "2025-01-06T15:36:12.514Z"
   },
   {
    "duration": 10,
    "start_time": "2025-01-06T15:36:15.398Z"
   },
   {
    "duration": 7,
    "start_time": "2025-01-06T15:36:20.843Z"
   },
   {
    "duration": 4,
    "start_time": "2025-01-06T15:37:12.348Z"
   },
   {
    "duration": 9,
    "start_time": "2025-01-06T15:38:10.975Z"
   },
   {
    "duration": 4,
    "start_time": "2025-01-06T15:38:22.875Z"
   },
   {
    "duration": 769,
    "start_time": "2025-01-06T15:38:38.518Z"
   },
   {
    "duration": 12,
    "start_time": "2025-01-06T15:38:39.289Z"
   },
   {
    "duration": 8,
    "start_time": "2025-01-06T15:38:39.302Z"
   },
   {
    "duration": 20,
    "start_time": "2025-01-06T15:38:39.313Z"
   },
   {
    "duration": 4,
    "start_time": "2025-01-06T15:38:39.335Z"
   },
   {
    "duration": 8,
    "start_time": "2025-01-06T15:38:39.341Z"
   },
   {
    "duration": 7,
    "start_time": "2025-01-06T15:38:39.659Z"
   },
   {
    "duration": 4,
    "start_time": "2025-01-06T15:38:39.681Z"
   },
   {
    "duration": 6,
    "start_time": "2025-01-06T15:38:40.144Z"
   },
   {
    "duration": 6,
    "start_time": "2025-01-06T15:38:40.175Z"
   },
   {
    "duration": 9,
    "start_time": "2025-01-06T15:38:41.575Z"
   },
   {
    "duration": 8,
    "start_time": "2025-01-06T15:38:42.251Z"
   },
   {
    "duration": 6,
    "start_time": "2025-01-06T15:38:42.897Z"
   },
   {
    "duration": 3,
    "start_time": "2025-01-06T15:38:43.358Z"
   },
   {
    "duration": 5,
    "start_time": "2025-01-06T15:38:45.773Z"
   },
   {
    "duration": 5,
    "start_time": "2025-01-06T15:38:46.463Z"
   },
   {
    "duration": 8,
    "start_time": "2025-01-06T15:38:47.615Z"
   },
   {
    "duration": 2587,
    "start_time": "2025-01-06T18:40:48.896Z"
   },
   {
    "duration": 25,
    "start_time": "2025-01-06T18:40:51.486Z"
   },
   {
    "duration": 9,
    "start_time": "2025-01-06T18:40:51.512Z"
   },
   {
    "duration": 8,
    "start_time": "2025-01-06T18:40:51.524Z"
   },
   {
    "duration": 3,
    "start_time": "2025-01-06T18:40:51.534Z"
   },
   {
    "duration": 8,
    "start_time": "2025-01-06T18:40:51.539Z"
   },
   {
    "duration": 8,
    "start_time": "2025-01-06T18:40:51.549Z"
   },
   {
    "duration": 4,
    "start_time": "2025-01-06T18:40:51.558Z"
   },
   {
    "duration": 4,
    "start_time": "2025-01-06T18:40:51.564Z"
   },
   {
    "duration": 5,
    "start_time": "2025-01-06T18:40:51.611Z"
   },
   {
    "duration": 9,
    "start_time": "2025-01-06T18:40:51.618Z"
   },
   {
    "duration": 7,
    "start_time": "2025-01-06T18:40:51.628Z"
   },
   {
    "duration": 7,
    "start_time": "2025-01-06T18:40:51.637Z"
   },
   {
    "duration": 3,
    "start_time": "2025-01-06T18:40:51.646Z"
   },
   {
    "duration": 5,
    "start_time": "2025-01-06T18:40:51.650Z"
   },
   {
    "duration": 4,
    "start_time": "2025-01-06T18:40:51.656Z"
   },
   {
    "duration": 52,
    "start_time": "2025-01-06T18:40:51.661Z"
   },
   {
    "duration": 3,
    "start_time": "2025-01-06T18:40:51.715Z"
   },
   {
    "duration": 2,
    "start_time": "2025-01-06T18:40:51.720Z"
   },
   {
    "duration": 3,
    "start_time": "2025-01-06T18:40:51.724Z"
   },
   {
    "duration": 3,
    "start_time": "2025-01-06T18:40:51.729Z"
   },
   {
    "duration": 2,
    "start_time": "2025-01-06T18:40:51.734Z"
   },
   {
    "duration": 2,
    "start_time": "2025-01-06T18:40:51.738Z"
   },
   {
    "duration": 4,
    "start_time": "2025-01-06T18:40:51.742Z"
   },
   {
    "duration": 3,
    "start_time": "2025-01-06T18:40:51.747Z"
   },
   {
    "duration": 2,
    "start_time": "2025-01-06T18:40:51.752Z"
   },
   {
    "duration": 3,
    "start_time": "2025-01-06T18:40:51.756Z"
   },
   {
    "duration": 2,
    "start_time": "2025-01-06T18:40:51.809Z"
   },
   {
    "duration": 3,
    "start_time": "2025-01-06T18:40:51.812Z"
   },
   {
    "duration": 2,
    "start_time": "2025-01-06T18:40:51.817Z"
   },
   {
    "duration": 3,
    "start_time": "2025-01-06T18:40:51.821Z"
   },
   {
    "duration": 2,
    "start_time": "2025-01-06T18:40:51.826Z"
   },
   {
    "duration": 11,
    "start_time": "2025-01-06T18:44:01.541Z"
   },
   {
    "duration": 4,
    "start_time": "2025-01-06T18:44:45.439Z"
   },
   {
    "duration": 8,
    "start_time": "2025-01-06T18:44:56.128Z"
   },
   {
    "duration": 6,
    "start_time": "2025-01-06T18:47:15.247Z"
   },
   {
    "duration": 4,
    "start_time": "2025-01-06T18:47:21.329Z"
   },
   {
    "duration": 5,
    "start_time": "2025-01-06T18:48:13.985Z"
   },
   {
    "duration": 3,
    "start_time": "2025-01-06T18:50:49.271Z"
   },
   {
    "duration": 3,
    "start_time": "2025-01-06T18:50:50.252Z"
   },
   {
    "duration": 4,
    "start_time": "2025-01-06T18:50:56.021Z"
   },
   {
    "duration": 3,
    "start_time": "2025-01-06T18:51:14.216Z"
   },
   {
    "duration": 3,
    "start_time": "2025-01-06T18:51:24.527Z"
   },
   {
    "duration": 6,
    "start_time": "2025-01-06T18:51:30.148Z"
   },
   {
    "duration": 6,
    "start_time": "2025-01-06T18:52:20.655Z"
   },
   {
    "duration": 108,
    "start_time": "2025-01-06T18:55:33.500Z"
   },
   {
    "duration": 117,
    "start_time": "2025-01-06T18:55:52.924Z"
   },
   {
    "duration": 281,
    "start_time": "2025-01-06T18:56:25.373Z"
   },
   {
    "duration": 851,
    "start_time": "2025-01-06T18:56:35.403Z"
   },
   {
    "duration": 114,
    "start_time": "2025-01-06T18:56:55.198Z"
   },
   {
    "duration": 116,
    "start_time": "2025-01-06T18:57:42.304Z"
   },
   {
    "duration": 175,
    "start_time": "2025-01-06T19:04:39.664Z"
   },
   {
    "duration": 294,
    "start_time": "2025-01-06T19:04:45.170Z"
   },
   {
    "duration": 382,
    "start_time": "2025-01-06T19:06:08.384Z"
   },
   {
    "duration": 366,
    "start_time": "2025-01-06T19:06:33.454Z"
   },
   {
    "duration": 459,
    "start_time": "2025-01-06T19:07:55.241Z"
   },
   {
    "duration": 563,
    "start_time": "2025-01-06T19:09:29.249Z"
   },
   {
    "duration": 127,
    "start_time": "2025-01-06T19:14:27.418Z"
   },
   {
    "duration": 22,
    "start_time": "2025-01-06T19:15:29.565Z"
   },
   {
    "duration": 794,
    "start_time": "2025-01-06T19:16:04.341Z"
   },
   {
    "duration": 12,
    "start_time": "2025-01-06T19:16:05.137Z"
   },
   {
    "duration": 9,
    "start_time": "2025-01-06T19:16:05.151Z"
   },
   {
    "duration": 8,
    "start_time": "2025-01-06T19:16:05.162Z"
   },
   {
    "duration": 4,
    "start_time": "2025-01-06T19:16:05.173Z"
   },
   {
    "duration": 31,
    "start_time": "2025-01-06T19:16:05.179Z"
   },
   {
    "duration": 7,
    "start_time": "2025-01-06T19:16:05.211Z"
   },
   {
    "duration": 4,
    "start_time": "2025-01-06T19:16:05.220Z"
   },
   {
    "duration": 4,
    "start_time": "2025-01-06T19:16:05.226Z"
   },
   {
    "duration": 5,
    "start_time": "2025-01-06T19:16:05.232Z"
   },
   {
    "duration": 7,
    "start_time": "2025-01-06T19:16:05.238Z"
   },
   {
    "duration": 7,
    "start_time": "2025-01-06T19:16:05.247Z"
   },
   {
    "duration": 7,
    "start_time": "2025-01-06T19:16:05.255Z"
   },
   {
    "duration": 44,
    "start_time": "2025-01-06T19:16:05.265Z"
   },
   {
    "duration": 4,
    "start_time": "2025-01-06T19:16:05.311Z"
   },
   {
    "duration": 3,
    "start_time": "2025-01-06T19:16:05.317Z"
   },
   {
    "duration": 8,
    "start_time": "2025-01-06T19:16:05.322Z"
   },
   {
    "duration": 4,
    "start_time": "2025-01-06T19:16:05.331Z"
   },
   {
    "duration": 389,
    "start_time": "2025-01-06T19:16:05.336Z"
   },
   {
    "duration": 0,
    "start_time": "2025-01-06T19:16:05.727Z"
   },
   {
    "duration": 0,
    "start_time": "2025-01-06T19:16:05.728Z"
   },
   {
    "duration": 0,
    "start_time": "2025-01-06T19:16:05.729Z"
   },
   {
    "duration": 0,
    "start_time": "2025-01-06T19:16:05.730Z"
   },
   {
    "duration": 0,
    "start_time": "2025-01-06T19:16:05.731Z"
   },
   {
    "duration": 0,
    "start_time": "2025-01-06T19:16:05.733Z"
   },
   {
    "duration": 0,
    "start_time": "2025-01-06T19:16:05.734Z"
   },
   {
    "duration": 0,
    "start_time": "2025-01-06T19:16:05.735Z"
   },
   {
    "duration": 0,
    "start_time": "2025-01-06T19:16:05.736Z"
   },
   {
    "duration": 0,
    "start_time": "2025-01-06T19:16:05.737Z"
   },
   {
    "duration": 0,
    "start_time": "2025-01-06T19:16:05.739Z"
   },
   {
    "duration": 0,
    "start_time": "2025-01-06T19:16:05.740Z"
   },
   {
    "duration": 0,
    "start_time": "2025-01-06T19:16:05.741Z"
   },
   {
    "duration": 0,
    "start_time": "2025-01-06T19:16:05.743Z"
   },
   {
    "duration": 0,
    "start_time": "2025-01-06T19:16:05.744Z"
   },
   {
    "duration": 0,
    "start_time": "2025-01-06T19:16:05.745Z"
   },
   {
    "duration": 5,
    "start_time": "2025-01-06T19:16:33.555Z"
   },
   {
    "duration": 4,
    "start_time": "2025-01-06T19:17:33.275Z"
   },
   {
    "duration": 6,
    "start_time": "2025-01-06T19:17:34.519Z"
   },
   {
    "duration": 8,
    "start_time": "2025-01-06T19:18:29.533Z"
   },
   {
    "duration": 456,
    "start_time": "2025-01-06T19:18:38.556Z"
   },
   {
    "duration": 21,
    "start_time": "2025-01-06T19:20:51.065Z"
   },
   {
    "duration": 19,
    "start_time": "2025-01-06T19:21:04.758Z"
   },
   {
    "duration": 15,
    "start_time": "2025-01-06T19:21:14.527Z"
   },
   {
    "duration": 14,
    "start_time": "2025-01-06T19:21:31.509Z"
   },
   {
    "duration": 5,
    "start_time": "2025-01-06T19:23:47.796Z"
   },
   {
    "duration": 5,
    "start_time": "2025-01-06T19:24:05.618Z"
   },
   {
    "duration": 2496,
    "start_time": "2025-01-08T15:51:39.615Z"
   },
   {
    "duration": 24,
    "start_time": "2025-01-08T15:51:42.113Z"
   },
   {
    "duration": 9,
    "start_time": "2025-01-08T15:51:42.139Z"
   },
   {
    "duration": 7,
    "start_time": "2025-01-08T15:51:42.151Z"
   },
   {
    "duration": 10,
    "start_time": "2025-01-08T15:51:42.160Z"
   },
   {
    "duration": 8,
    "start_time": "2025-01-08T15:51:42.172Z"
   },
   {
    "duration": 7,
    "start_time": "2025-01-08T15:51:42.182Z"
   },
   {
    "duration": 3,
    "start_time": "2025-01-08T15:51:42.191Z"
   },
   {
    "duration": 5,
    "start_time": "2025-01-08T15:51:42.196Z"
   },
   {
    "duration": 3,
    "start_time": "2025-01-08T15:51:42.204Z"
   },
   {
    "duration": 7,
    "start_time": "2025-01-08T15:51:42.209Z"
   },
   {
    "duration": 8,
    "start_time": "2025-01-08T15:51:42.218Z"
   },
   {
    "duration": 6,
    "start_time": "2025-01-08T15:51:42.271Z"
   },
   {
    "duration": 3,
    "start_time": "2025-01-08T15:51:42.279Z"
   },
   {
    "duration": 5,
    "start_time": "2025-01-08T15:51:42.283Z"
   },
   {
    "duration": 4,
    "start_time": "2025-01-08T15:51:42.289Z"
   },
   {
    "duration": 7,
    "start_time": "2025-01-08T15:51:42.295Z"
   },
   {
    "duration": 4,
    "start_time": "2025-01-08T15:51:42.304Z"
   },
   {
    "duration": 5,
    "start_time": "2025-01-08T15:51:42.310Z"
   },
   {
    "duration": 4,
    "start_time": "2025-01-08T15:51:42.316Z"
   },
   {
    "duration": 50,
    "start_time": "2025-01-08T15:51:42.322Z"
   },
   {
    "duration": 8,
    "start_time": "2025-01-08T15:51:42.374Z"
   },
   {
    "duration": 461,
    "start_time": "2025-01-08T15:51:42.384Z"
   },
   {
    "duration": 2,
    "start_time": "2025-01-08T15:51:42.847Z"
   },
   {
    "duration": 3,
    "start_time": "2025-01-08T15:51:42.851Z"
   },
   {
    "duration": 3,
    "start_time": "2025-01-08T15:51:42.869Z"
   },
   {
    "duration": 3,
    "start_time": "2025-01-08T15:51:42.873Z"
   },
   {
    "duration": 2,
    "start_time": "2025-01-08T15:51:42.880Z"
   },
   {
    "duration": 3,
    "start_time": "2025-01-08T15:51:42.883Z"
   },
   {
    "duration": 4,
    "start_time": "2025-01-08T15:51:42.887Z"
   },
   {
    "duration": 3,
    "start_time": "2025-01-08T15:51:42.892Z"
   },
   {
    "duration": 3,
    "start_time": "2025-01-08T15:51:42.896Z"
   },
   {
    "duration": 2,
    "start_time": "2025-01-08T15:51:42.901Z"
   },
   {
    "duration": 3,
    "start_time": "2025-01-08T15:51:42.905Z"
   },
   {
    "duration": 4,
    "start_time": "2025-01-08T15:51:42.909Z"
   },
   {
    "duration": 404,
    "start_time": "2025-01-08T16:00:35.195Z"
   },
   {
    "duration": 16,
    "start_time": "2025-01-08T16:02:54.534Z"
   },
   {
    "duration": 37,
    "start_time": "2025-01-08T16:03:18.531Z"
   },
   {
    "duration": 364,
    "start_time": "2025-01-08T16:03:24.979Z"
   },
   {
    "duration": 186,
    "start_time": "2025-01-08T16:03:48.560Z"
   },
   {
    "duration": 217,
    "start_time": "2025-01-08T16:04:17.262Z"
   },
   {
    "duration": 201,
    "start_time": "2025-01-08T16:04:23.448Z"
   },
   {
    "duration": 126,
    "start_time": "2025-01-08T16:05:25.293Z"
   },
   {
    "duration": 203,
    "start_time": "2025-01-08T16:06:15.334Z"
   },
   {
    "duration": 161,
    "start_time": "2025-01-08T16:07:20.710Z"
   },
   {
    "duration": 13,
    "start_time": "2025-01-08T16:11:40.755Z"
   },
   {
    "duration": 105,
    "start_time": "2025-01-08T16:12:00.843Z"
   },
   {
    "duration": 3,
    "start_time": "2025-01-08T16:13:05.301Z"
   },
   {
    "duration": 6,
    "start_time": "2025-01-08T16:15:50.355Z"
   },
   {
    "duration": 129,
    "start_time": "2025-01-08T16:16:16.201Z"
   },
   {
    "duration": 132,
    "start_time": "2025-01-08T16:16:38.461Z"
   },
   {
    "duration": 109,
    "start_time": "2025-01-08T16:16:44.490Z"
   },
   {
    "duration": 137,
    "start_time": "2025-01-08T16:17:21.747Z"
   },
   {
    "duration": 128,
    "start_time": "2025-01-08T16:17:50.715Z"
   },
   {
    "duration": 111,
    "start_time": "2025-01-08T16:18:03.780Z"
   },
   {
    "duration": 99,
    "start_time": "2025-01-08T16:19:06.256Z"
   },
   {
    "duration": 3,
    "start_time": "2025-01-08T16:19:35.608Z"
   },
   {
    "duration": 142,
    "start_time": "2025-01-08T16:30:24.214Z"
   },
   {
    "duration": 3,
    "start_time": "2025-01-08T16:31:21.359Z"
   },
   {
    "duration": 142,
    "start_time": "2025-01-08T16:31:31.576Z"
   },
   {
    "duration": 8,
    "start_time": "2025-01-08T16:33:26.656Z"
   },
   {
    "duration": 214,
    "start_time": "2025-01-08T16:36:06.177Z"
   },
   {
    "duration": 46,
    "start_time": "2025-01-08T16:36:27.206Z"
   },
   {
    "duration": 49,
    "start_time": "2025-01-08T16:36:59.701Z"
   },
   {
    "duration": 6,
    "start_time": "2025-01-08T16:37:18.332Z"
   },
   {
    "duration": 6,
    "start_time": "2025-01-08T16:37:51.487Z"
   },
   {
    "duration": 8,
    "start_time": "2025-01-08T16:39:35.483Z"
   },
   {
    "duration": 15,
    "start_time": "2025-01-08T16:40:07.849Z"
   },
   {
    "duration": 46,
    "start_time": "2025-01-08T16:40:53.403Z"
   },
   {
    "duration": 10,
    "start_time": "2025-01-08T16:41:55.255Z"
   },
   {
    "duration": 132,
    "start_time": "2025-01-08T16:42:34.638Z"
   },
   {
    "duration": 127,
    "start_time": "2025-01-08T16:43:07.712Z"
   },
   {
    "duration": 208,
    "start_time": "2025-01-08T16:43:44.535Z"
   },
   {
    "duration": 233,
    "start_time": "2025-01-08T16:44:12.441Z"
   },
   {
    "duration": 108,
    "start_time": "2025-01-08T16:44:26.582Z"
   },
   {
    "duration": 5,
    "start_time": "2025-01-08T16:44:43.225Z"
   },
   {
    "duration": 114,
    "start_time": "2025-01-08T16:44:51.523Z"
   },
   {
    "duration": 2523,
    "start_time": "2025-01-08T18:51:38.751Z"
   },
   {
    "duration": 22,
    "start_time": "2025-01-08T18:51:41.276Z"
   },
   {
    "duration": 9,
    "start_time": "2025-01-08T18:51:41.300Z"
   },
   {
    "duration": 8,
    "start_time": "2025-01-08T18:51:41.311Z"
   },
   {
    "duration": 4,
    "start_time": "2025-01-08T18:51:41.324Z"
   },
   {
    "duration": 8,
    "start_time": "2025-01-08T18:51:41.330Z"
   },
   {
    "duration": 7,
    "start_time": "2025-01-08T18:51:41.339Z"
   },
   {
    "duration": 5,
    "start_time": "2025-01-08T18:51:41.348Z"
   },
   {
    "duration": 5,
    "start_time": "2025-01-08T18:51:41.354Z"
   },
   {
    "duration": 4,
    "start_time": "2025-01-08T18:51:41.362Z"
   },
   {
    "duration": 8,
    "start_time": "2025-01-08T18:51:41.368Z"
   },
   {
    "duration": 52,
    "start_time": "2025-01-08T18:51:41.377Z"
   },
   {
    "duration": 6,
    "start_time": "2025-01-08T18:51:41.431Z"
   },
   {
    "duration": 4,
    "start_time": "2025-01-08T18:51:41.442Z"
   },
   {
    "duration": 4,
    "start_time": "2025-01-08T18:51:41.447Z"
   },
   {
    "duration": 4,
    "start_time": "2025-01-08T18:51:41.453Z"
   },
   {
    "duration": 7,
    "start_time": "2025-01-08T18:51:41.458Z"
   },
   {
    "duration": 3,
    "start_time": "2025-01-08T18:51:41.467Z"
   },
   {
    "duration": 5,
    "start_time": "2025-01-08T18:51:41.472Z"
   },
   {
    "duration": 46,
    "start_time": "2025-01-08T18:51:41.479Z"
   },
   {
    "duration": 5,
    "start_time": "2025-01-08T18:51:41.527Z"
   },
   {
    "duration": 8,
    "start_time": "2025-01-08T18:51:41.534Z"
   },
   {
    "duration": 475,
    "start_time": "2025-01-08T18:51:41.543Z"
   },
   {
    "duration": 243,
    "start_time": "2025-01-08T18:51:42.019Z"
   },
   {
    "duration": 138,
    "start_time": "2025-01-08T18:51:42.265Z"
   },
   {
    "duration": 143,
    "start_time": "2025-01-08T18:51:42.405Z"
   },
   {
    "duration": 250,
    "start_time": "2025-01-08T18:51:42.552Z"
   },
   {
    "duration": 161,
    "start_time": "2025-01-08T18:51:42.803Z"
   },
   {
    "duration": 117,
    "start_time": "2025-01-08T18:51:42.967Z"
   },
   {
    "duration": 4,
    "start_time": "2025-01-08T18:51:43.086Z"
   },
   {
    "duration": 137,
    "start_time": "2025-01-08T18:51:43.092Z"
   },
   {
    "duration": 102,
    "start_time": "2025-01-08T18:51:43.231Z"
   },
   {
    "duration": 4,
    "start_time": "2025-01-08T18:51:43.335Z"
   },
   {
    "duration": 155,
    "start_time": "2025-01-08T18:51:43.341Z"
   },
   {
    "duration": 29,
    "start_time": "2025-01-08T18:51:43.498Z"
   },
   {
    "duration": 6,
    "start_time": "2025-01-08T18:51:43.529Z"
   },
   {
    "duration": 7,
    "start_time": "2025-01-08T18:51:43.537Z"
   },
   {
    "duration": 16,
    "start_time": "2025-01-08T18:51:43.545Z"
   },
   {
    "duration": 10,
    "start_time": "2025-01-08T18:51:43.562Z"
   },
   {
    "duration": 1053,
    "start_time": "2025-01-08T19:05:00.658Z"
   },
   {
    "duration": 127,
    "start_time": "2025-01-08T19:05:32.183Z"
   },
   {
    "duration": 169,
    "start_time": "2025-01-08T19:10:54.161Z"
   },
   {
    "duration": 187,
    "start_time": "2025-01-08T19:12:59.344Z"
   },
   {
    "duration": 238,
    "start_time": "2025-01-08T19:13:18.713Z"
   },
   {
    "duration": 255,
    "start_time": "2025-01-08T19:15:53.166Z"
   },
   {
    "duration": 12,
    "start_time": "2025-01-08T19:30:25.923Z"
   },
   {
    "duration": 97,
    "start_time": "2025-01-08T19:31:37.082Z"
   },
   {
    "duration": 100,
    "start_time": "2025-01-08T19:32:04.503Z"
   },
   {
    "duration": 10,
    "start_time": "2025-01-08T19:35:13.686Z"
   },
   {
    "duration": 10,
    "start_time": "2025-01-08T19:36:00.318Z"
   },
   {
    "duration": 5,
    "start_time": "2025-01-08T19:38:10.073Z"
   },
   {
    "duration": 156,
    "start_time": "2025-01-08T19:38:34.089Z"
   },
   {
    "duration": 124,
    "start_time": "2025-01-08T19:39:18.633Z"
   },
   {
    "duration": 116,
    "start_time": "2025-01-08T19:39:54.545Z"
   },
   {
    "duration": 121,
    "start_time": "2025-01-08T19:41:14.910Z"
   },
   {
    "duration": 92,
    "start_time": "2025-01-08T19:41:21.225Z"
   },
   {
    "duration": 3,
    "start_time": "2025-01-08T19:49:37.906Z"
   },
   {
    "duration": 107,
    "start_time": "2025-01-08T19:56:48.408Z"
   },
   {
    "duration": 105,
    "start_time": "2025-01-08T19:56:58.362Z"
   },
   {
    "duration": 4,
    "start_time": "2025-01-08T20:01:54.307Z"
   },
   {
    "duration": 3,
    "start_time": "2025-01-08T20:02:52.970Z"
   },
   {
    "duration": 195,
    "start_time": "2025-01-08T21:21:52.072Z"
   },
   {
    "duration": 3003,
    "start_time": "2025-01-08T21:22:01.152Z"
   },
   {
    "duration": 21,
    "start_time": "2025-01-08T21:22:04.157Z"
   },
   {
    "duration": 12,
    "start_time": "2025-01-08T21:22:04.180Z"
   },
   {
    "duration": 11,
    "start_time": "2025-01-08T21:22:04.194Z"
   },
   {
    "duration": 4,
    "start_time": "2025-01-08T21:22:04.207Z"
   },
   {
    "duration": 10,
    "start_time": "2025-01-08T21:22:04.213Z"
   },
   {
    "duration": 7,
    "start_time": "2025-01-08T21:22:04.225Z"
   },
   {
    "duration": 5,
    "start_time": "2025-01-08T21:22:04.234Z"
   },
   {
    "duration": 4,
    "start_time": "2025-01-08T21:22:04.240Z"
   },
   {
    "duration": 4,
    "start_time": "2025-01-08T21:22:04.248Z"
   },
   {
    "duration": 13,
    "start_time": "2025-01-08T21:22:04.287Z"
   },
   {
    "duration": 11,
    "start_time": "2025-01-08T21:22:04.301Z"
   },
   {
    "duration": 9,
    "start_time": "2025-01-08T21:22:04.314Z"
   },
   {
    "duration": 3,
    "start_time": "2025-01-08T21:22:04.324Z"
   },
   {
    "duration": 4,
    "start_time": "2025-01-08T21:22:04.329Z"
   },
   {
    "duration": 4,
    "start_time": "2025-01-08T21:22:04.334Z"
   },
   {
    "duration": 8,
    "start_time": "2025-01-08T21:22:04.339Z"
   },
   {
    "duration": 41,
    "start_time": "2025-01-08T21:22:04.349Z"
   },
   {
    "duration": 7,
    "start_time": "2025-01-08T21:22:04.392Z"
   },
   {
    "duration": 4,
    "start_time": "2025-01-08T21:22:04.401Z"
   },
   {
    "duration": 6,
    "start_time": "2025-01-08T21:22:04.407Z"
   },
   {
    "duration": 9,
    "start_time": "2025-01-08T21:22:04.415Z"
   },
   {
    "duration": 565,
    "start_time": "2025-01-08T21:22:04.425Z"
   },
   {
    "duration": 265,
    "start_time": "2025-01-08T21:22:04.992Z"
   },
   {
    "duration": 160,
    "start_time": "2025-01-08T21:22:05.259Z"
   },
   {
    "duration": 143,
    "start_time": "2025-01-08T21:22:05.420Z"
   },
   {
    "duration": 232,
    "start_time": "2025-01-08T21:22:05.565Z"
   },
   {
    "duration": 222,
    "start_time": "2025-01-08T21:22:05.803Z"
   },
   {
    "duration": 142,
    "start_time": "2025-01-08T21:22:06.026Z"
   },
   {
    "duration": 109,
    "start_time": "2025-01-08T21:22:06.170Z"
   },
   {
    "duration": 4,
    "start_time": "2025-01-08T21:22:06.287Z"
   },
   {
    "duration": 126,
    "start_time": "2025-01-08T21:22:06.293Z"
   },
   {
    "duration": 3,
    "start_time": "2025-01-08T21:22:06.422Z"
   },
   {
    "duration": 157,
    "start_time": "2025-01-08T21:22:06.427Z"
   },
   {
    "duration": 9,
    "start_time": "2025-01-08T21:22:06.585Z"
   },
   {
    "duration": 8,
    "start_time": "2025-01-08T21:22:06.597Z"
   },
   {
    "duration": 8,
    "start_time": "2025-01-08T21:22:06.607Z"
   },
   {
    "duration": 18,
    "start_time": "2025-01-08T21:22:06.617Z"
   },
   {
    "duration": 10,
    "start_time": "2025-01-08T21:22:06.636Z"
   },
   {
    "duration": 10,
    "start_time": "2025-01-08T21:34:35.984Z"
   },
   {
    "duration": 21,
    "start_time": "2025-01-08T21:36:02.704Z"
   },
   {
    "duration": 7,
    "start_time": "2025-01-08T21:40:10.658Z"
   },
   {
    "duration": 5,
    "start_time": "2025-01-08T21:40:23.684Z"
   },
   {
    "duration": 739,
    "start_time": "2025-01-08T21:47:37.625Z"
   },
   {
    "duration": 12,
    "start_time": "2025-01-08T21:48:34.578Z"
   },
   {
    "duration": 10,
    "start_time": "2025-01-09T06:21:18.396Z"
   }
  ],
  "kernelspec": {
   "display_name": "Python 3 (ipykernel)",
   "language": "python",
   "name": "python3"
  },
  "language_info": {
   "codemirror_mode": {
    "name": "ipython",
    "version": 3
   },
   "file_extension": ".py",
   "mimetype": "text/x-python",
   "name": "python",
   "nbconvert_exporter": "python",
   "pygments_lexer": "ipython3",
   "version": "3.9.19"
  },
  "toc": {
   "base_numbering": 1,
   "nav_menu": {},
   "number_sections": true,
   "sideBar": true,
   "skip_h1_title": true,
   "title_cell": "Table of Contents",
   "title_sidebar": "Contents",
   "toc_cell": false,
   "toc_position": {},
   "toc_section_display": true,
   "toc_window_display": false
  }
 },
 "nbformat": 4,
 "nbformat_minor": 2
}
